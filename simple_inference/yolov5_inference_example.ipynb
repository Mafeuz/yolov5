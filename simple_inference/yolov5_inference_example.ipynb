{
 "cells": [
  {
   "cell_type": "code",
   "execution_count": 1,
   "id": "e2c5ce3a",
   "metadata": {},
   "outputs": [],
   "source": [
    "from inference import yolov5_inference\n",
    "from models.common import DetectMultiBackend\n",
    "from utils.torch_utils import select_device\n",
    "import cv2\n",
    "from math import ceil"
   ]
  },
  {
   "cell_type": "code",
   "execution_count": 3,
   "id": "d89b5809",
   "metadata": {},
   "outputs": [
    {
     "name": "stderr",
     "output_type": "stream",
     "text": [
      "YOLOv5  2022-8-4 torch 1.8.1+cu101 CUDA:0 (NVIDIA GeForce MX450, 2048MiB)\n",
      "\n",
      "Fusing layers... \n",
      "YOLOv5m6 summary: 378 layers, 35704908 parameters, 0 gradients, 50.0 GFLOPs\n"
     ]
    }
   ],
   "source": [
    "# Loading Yolov5 Model:\n",
    "model = DetectMultiBackend(weights='yolov5m6.pt', device=select_device('0'), data='coco.yaml')"
   ]
  },
  {
   "cell_type": "code",
   "execution_count": 5,
   "id": "44ff744a",
   "metadata": {},
   "outputs": [
    {
     "name": "stderr",
     "output_type": "stream",
     "text": [
      "YOLOv5  2022-8-4 torch 1.8.1+cu101 CUDA:0 (NVIDIA GeForce MX450, 2048MiB)\n",
      "\n",
      "Speed: 8.0ms pre-process, 130.2ms inference, 7.9ms NMS per image at shape (1, 3, 1280, 1280)\n"
     ]
    },
    {
     "name": "stdout",
     "output_type": "stream",
     "text": [
      "=================================================================\n",
      "Detection 1:\n",
      "Class: 16.0\n",
      "Confidence: 63%\n",
      "cX: 1081\n",
      "cY: 658\n",
      "W: 281\n",
      "H: 1151\n",
      "=================================================================\n",
      "Detection 2:\n",
      "Class: 15.0\n",
      "Confidence: 73%\n",
      "cX: 442\n",
      "cY: 874\n",
      "W: 168\n",
      "H: 731\n",
      "=================================================================\n",
      "Detection 3:\n",
      "Class: 15.0\n",
      "Confidence: 76%\n",
      "cX: 1082\n",
      "cY: 659\n",
      "W: 280\n",
      "H: 1151\n",
      "=================================================================\n",
      "Detection 4:\n",
      "Class: 16.0\n",
      "Confidence: 87%\n",
      "cX: 641\n",
      "cY: 666\n",
      "W: 295\n",
      "H: 1147\n",
      "=================================================================\n",
      "Detection 5:\n",
      "Class: 15.0\n",
      "Confidence: 88%\n",
      "cX: 877\n",
      "cY: 853\n",
      "W: 211\n",
      "H: 764\n",
      "=================================================================\n",
      "Detection 6:\n",
      "Class: 16.0\n",
      "Confidence: 93%\n",
      "cX: 218\n",
      "cY: 698\n",
      "W: 328\n",
      "H: 1046\n"
     ]
    }
   ],
   "source": [
    "img = cv2.imread('dogs_cats.jpg')\n",
    "\n",
    "output_img, output = yolov5_inference(\n",
    "        img,    # image to run inference\n",
    "        model,  # loaded model  \n",
    "        imgsz=(1280, 1280),  # inference size (height, width)\n",
    "        conf_thres=0.25,  # confidence threshold\n",
    "        iou_thres=0.10,  # NMS IOU threshold\n",
    "        max_det=1000,  # maximum detections per image\n",
    "        device='',  # cuda device, i.e. 0 or 0,1,2,3 or cpu\n",
    "        classes=None,  # filter by class: --class 0, or --class 0 2 3\n",
    "        line_thickness=1,  # bounding box thickness (pixels)\n",
    ")\n",
    "\n",
    "for i, detection in enumerate(output):\n",
    "    \n",
    "    print('=================================================================')\n",
    "    print(f'Detection {i+1}:')\n",
    "    print(f'Class: {detection[0]}')\n",
    "    print(f'Confidence: {ceil(detection[5]*100)}%')\n",
    "    print(f'cX: {int(detection[1]*1280)}')\n",
    "    print(f'cY: {int(detection[2]*1280)}')\n",
    "    print(f'W: {int(detection[3]*1280)}')\n",
    "    print(f'H: {int(detection[4]*1280)}')\n",
    "\n",
    "output_img = cv2.resize(output_img, (1000, 640))\n",
    "cv2.imshow('Output', output_img)\n",
    "cv2.waitKey(0)\n",
    "cv2.destroyAllWindows()"
   ]
  },
  {
   "cell_type": "code",
   "execution_count": null,
   "id": "3f17193d",
   "metadata": {},
   "outputs": [],
   "source": []
  }
 ],
 "metadata": {
  "kernelspec": {
   "display_name": "Python 3 (ipykernel)",
   "language": "python",
   "name": "python3"
  },
  "language_info": {
   "codemirror_mode": {
    "name": "ipython",
    "version": 3
   },
   "file_extension": ".py",
   "mimetype": "text/x-python",
   "name": "python",
   "nbconvert_exporter": "python",
   "pygments_lexer": "ipython3",
   "version": "3.7.9"
  }
 },
 "nbformat": 4,
 "nbformat_minor": 5
}
